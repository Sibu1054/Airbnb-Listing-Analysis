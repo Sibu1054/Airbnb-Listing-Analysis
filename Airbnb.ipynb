import pandas as pd
import matplotlib.pyplot as plt

# Loading dataset 
df = pd.read_csv("AB_NYC_2019.csv")

# Clean column names
df.columns = df.columns.str.strip().str.lower().str.replace(" ", "_")

# Basic Information
print("\nDataset Info:\n")
print(df.info())

print("\nNull Values:\n")
print(df.isnull().sum())

print("\nSummary Statistics:\n")
print(df.describe())

# Price Distribution
plt.figure(figsize=(10, 6))
plt.hist(df[df['price'] < 500]['price'], bins=50, color='skyblue', edgecolor='black')
plt.title('Price Distribution (Under $500)')
plt.xlabel('Price ($)')
plt.ylabel('Number of Listings')
plt.tight_layout()
plt.show()

# Listings by Borough
plt.figure(figsize=(8, 5))
df['neighbourhood_group'].value_counts().plot(kind='bar', color='mediumseagreen', edgecolor='black')
plt.title('Listings by Borough')
plt.xlabel('Borough')
plt.ylabel('Count')
plt.tight_layout()
plt.show()

# Room Type Distribution
plt.figure(figsize=(8, 5))
df['room_type'].value_counts().plot(kind='bar', color='orchid', edgecolor='black')
plt.title('Room Type Distribution')
plt.xlabel('Room Type')
plt.ylabel('Count')
plt.tight_layout()
plt.show()

# Average Price by Borough
avg_price = df[df['price'] < 500].groupby('neighbourhood_group')['price'].mean().sort_values()
plt.figure(figsize=(8, 5))
plt.barh(avg_price.index, avg_price.values, color='coral', edgecolor='black')
plt.title('Average Price by Borough (Under $500)')
plt.xlabel('Average Price ($)')
plt.ylabel('Borough')
plt.tight_layout()
plt.show()

# Availability by Room Type
plt.figure(figsize=(8, 5))
df[df['availability_365'] < 365].boxplot(column='availability_365', by='room_type', grid=False, patch_artist=True)
plt.title('Availability (days/year) by Room Type')
plt.suptitle('')
plt.xlabel('Room Type')
plt.ylabel('Availability (days)')
plt.tight_layout()
plt.show()

# Top Hosts by Number of Listings
top_hosts = df['host_id'].value_counts().head(10)
plt.figure(figsize=(10, 6))
plt.barh(top_hosts.index.astype(str), top_hosts.values, color='slateblue', edgecolor='black')
plt.title('Top 10 Hosts by Number of Listings')
plt.xlabel('Number of Listings')
plt.ylabel('Host ID')
plt.tight_layout()
plt.show()
